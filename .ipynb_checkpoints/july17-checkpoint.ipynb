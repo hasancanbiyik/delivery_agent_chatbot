{
 "cells": [
  {
   "cell_type": "code",
   "execution_count": 5,
   "id": "2990a846-10c8-45de-992e-cc25c8fe2dc7",
   "metadata": {},
   "outputs": [],
   "source": [
    "# spacy is object oriented\n",
    "# nltk is string oriented"
   ]
  },
  {
   "cell_type": "code",
   "execution_count": 2,
   "id": "6eb77a9e-bcfa-4590-b755-a4f823f8340b",
   "metadata": {},
   "outputs": [],
   "source": [
    "import spacy"
   ]
  },
  {
   "cell_type": "code",
   "execution_count": 9,
   "id": "3eccf4d9-6e18-4dcc-9f10-e58763aa8a92",
   "metadata": {},
   "outputs": [
    {
     "name": "stdout",
     "output_type": "stream",
     "text": [
      "The dr. told me so and I love myself.\n",
      "It was quite challenging, but I did it!\n"
     ]
    }
   ],
   "source": [
    "nlp = spacy.load(\"en_core_web_sm\")\n",
    "\n",
    "doc = nlp(\"The dr. told me so and I love myself. It was quite challenging, but I did it!\")\n",
    "\n",
    "for sentence in doc.sents:\n",
    "    print(sentence) # splits two sentences accurately!"
   ]
  },
  {
   "cell_type": "code",
   "execution_count": 11,
   "id": "edd66bd8-8946-4664-a333-23f309626b59",
   "metadata": {},
   "outputs": [
    {
     "name": "stdout",
     "output_type": "stream",
     "text": [
      "The\n",
      "dr\n",
      ".\n",
      "told\n",
      "me\n",
      "so\n",
      "and\n",
      "I\n",
      "love\n",
      "myself\n",
      ".\n",
      "It\n",
      "was\n",
      "quite\n",
      "challenging\n",
      ",\n",
      "but\n",
      "I\n",
      "did\n",
      "it\n",
      "!\n"
     ]
    }
   ],
   "source": [
    "for sentence in doc.sents: # word tokenization in spacy\n",
    "    for word in sentence:\n",
    "        print(word)"
   ]
  },
  {
   "cell_type": "markdown",
   "id": "9d3f4fb9-6934-4b6b-8f68-f40172ac0550",
   "metadata": {},
   "source": [
    "- spacy provides the most efficient NLP algorithm for a given task. if you care about the end result, go with spacy.\n",
    "- nltk provides access to many algorithms, if you care about specific algo and customizations, choose nltk."
   ]
  },
  {
   "cell_type": "code",
   "execution_count": 14,
   "id": "3503a18f-0347-4d84-b14d-424bfa393123",
   "metadata": {},
   "outputs": [
    {
     "data": {
      "text/plain": [
       "['The dr. told me so and I love myself.',\n",
       " 'It was quite challenging, but I did it!']"
      ]
     },
     "execution_count": 14,
     "metadata": {},
     "output_type": "execute_result"
    }
   ],
   "source": [
    "import nltk\n",
    "\n",
    "from nltk.tokenize import sent_tokenize\n",
    "\n",
    "sent_tokenize(\"The dr. told me so and I love myself. It was quite challenging, but I did it!\")"
   ]
  },
  {
   "cell_type": "code",
   "execution_count": 21,
   "id": "83f6c938-398d-4f0c-aa73-deb2677c1625",
   "metadata": {},
   "outputs": [
    {
     "name": "stdout",
     "output_type": "stream",
     "text": [
      "Merhabalar\n",
      "!\n",
      "Benim\n",
      "adım\n",
      "Hasan\n",
      "Can\n",
      "Bıyık\n",
      ".\n",
      "Ben\n",
      "harikayım\n",
      ":\n",
      ")\n"
     ]
    }
   ],
   "source": [
    "# creating a language object\n",
    "\n",
    "nlp = spacy.blank(\"tr\") # you can use en or other langs\n",
    "\n",
    "doc = nlp(\"Merhabalar! Benim adım Hasan Can Bıyık. Ben harikayım :)\")\n",
    "\n",
    "for token in doc:\n",
    "    print(token)"
   ]
  },
  {
   "cell_type": "code",
   "execution_count": null,
   "id": "c3cc1dc9-058c-4e34-997b-dc5b834bfca1",
   "metadata": {},
   "outputs": [],
   "source": []
  },
  {
   "cell_type": "code",
   "execution_count": null,
   "id": "04e4c97c-d492-44d8-be69-3fede183b170",
   "metadata": {},
   "outputs": [],
   "source": []
  },
  {
   "cell_type": "code",
   "execution_count": null,
   "id": "b4535c71-f164-46bf-a173-84c1571d902c",
   "metadata": {},
   "outputs": [],
   "source": []
  },
  {
   "cell_type": "code",
   "execution_count": null,
   "id": "df4e4781-d757-493a-86ca-9eb956fca85f",
   "metadata": {},
   "outputs": [],
   "source": []
  }
 ],
 "metadata": {
  "kernelspec": {
   "display_name": "Python [conda env:base] *",
   "language": "python",
   "name": "conda-base-py"
  },
  "language_info": {
   "codemirror_mode": {
    "name": "ipython",
    "version": 3
   },
   "file_extension": ".py",
   "mimetype": "text/x-python",
   "name": "python",
   "nbconvert_exporter": "python",
   "pygments_lexer": "ipython3",
   "version": "3.12.7"
  }
 },
 "nbformat": 4,
 "nbformat_minor": 5
}
